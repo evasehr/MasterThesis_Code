{
 "cells": [
  {
   "cell_type": "markdown",
   "metadata": {},
   "source": [
    "# RF based on 10K randomly selected SNPs\n"
   ]
  },
  {
   "cell_type": "markdown",
   "metadata": {},
   "source": [
    "## Import packages"
   ]
  },
  {
   "cell_type": "code",
   "execution_count": null,
   "metadata": {},
   "outputs": [],
   "source": [
    "import random\n",
    "import pandas as pd\n",
    "pd.set_option('display.max_columns', 999)\n",
    "\n",
    "import numpy as np\n",
    "from sklearn.preprocessing import LabelEncoder\n",
    "import matplotlib.pyplot as plt\n",
    "import seaborn as sns\n",
    "\n",
    "%matplotlib inline\n",
    "\n",
    "# Settings for seaborn\n",
    "sns.set(color_codes=True)\n",
    "sns.set_style(\"whitegrid\")\n",
    "sns.set(rc={'figure.figsize':(13,10)})"
   ]
  },
  {
   "cell_type": "markdown",
   "metadata": {},
   "source": [
    "## Select random 10k SNPs\n",
    "Extract SNP list from beta table, generate list of random 10k SNPs & create new beta table:"
   ]
  },
  {
   "cell_type": "code",
   "execution_count": null,
   "metadata": {},
   "outputs": [],
   "source": [
    "df = pd.read_csv('/Carnegie/DPB/Data/Shared/Labs/Moi/Everyone/deepselection/randomForest/betas_woNAs_55climvars_rFit.txt', sep='\\t')\n",
    "df.rename(columns={'clim-bio18.assoc_y':'clim-bio18'}, inplace=True)\n",
    "df.drop(['clim-bio18.assoc_x'],axis=1, inplace=True)\n",
    "df"
   ]
  },
  {
   "cell_type": "code",
   "execution_count": null,
   "metadata": {},
   "outputs": [],
   "source": [
    "mySNPs = df['rs'].tolist()\n",
    "numberToSelect = 10000                          \n",
    "randomSNPs = random.sample(mySNPs, numberToSelect)\n",
    "\n",
    "dfSNPs = pd.DataFrame(np.array([randomSNPs]).T)\n",
    "dfSNPs.columns = ['randomSNPs']\n",
    "dfSNPs.to_csv('/Carnegie/DPB/Data/Shared/Labs/Moi/Everyone/deepselection/randomForest/randomSNPsList.txt', sep='\\t', index=False)\n",
    "\n",
    "df.set_index('rs')\n",
    "\n",
    "randomDF = df.loc[df['rs'].isin(randomSNPs)]\n",
    "randomDF.to_csv('/Carnegie/DPB/Data/Shared/Labs/Moi/Everyone/deepselection/randomForest/randomSNPs_55climvars_4rFit.txt', sep='\\t', index=False)"
   ]
  },
  {
   "cell_type": "code",
   "execution_count": null,
   "metadata": {},
   "outputs": [],
   "source": [
    "randomDF"
   ]
  },
  {
   "cell_type": "code",
   "execution_count": null,
   "metadata": {},
   "outputs": [],
   "source": [
    "dfSNPs"
   ]
  },
  {
   "cell_type": "markdown",
   "metadata": {},
   "source": [
    "### Prepare the target dataset\n"
   ]
  },
  {
   "cell_type": "code",
   "execution_count": null,
   "metadata": {},
   "outputs": [],
   "source": [
    "df = pd.read_csv(f'/Carnegie/DPB/Data/Shared/Labs/Moi/Everyone/deepselection/randomForest/randomSNPs_55climvars_4rFit.txt', delim_whitespace=True)\n",
    "dfmlp = df[['rs', 'rFitness2_mlp']].copy()\n",
    "dfmlp.rename(columns={'rFitness2_mlp':'beta'}, inplace=True)\n",
    "dfmlp['locat'] = 'MLP'\n",
    "\n",
    "dfmli = df[['rs', 'rFitness2_mli']].copy()\n",
    "dfmli.rename(columns={'rFitness2_mli':'beta'}, inplace=True)\n",
    "dfmli['locat'] = 'MLI'\n",
    "\n",
    "dfthi = df[['rs', 'rFitness2_thi']].copy()\n",
    "dfthi.rename(columns={'rFitness2_thi':'beta'}, inplace=True)\n",
    "dfthi['locat'] = 'THI'\n",
    "\n",
    "dfthp = df[['rs', 'rFitness2_thp']].copy()\n",
    "dfthp.rename(columns={'rFitness2_thp':'beta'}, inplace=True)\n",
    "dfthp['locat'] = 'THP'\n",
    "\n",
    "target = pd.DataFrame(data=dfmlp)\n",
    "target = target.append([dfmli, dfthi, dfthp], ignore_index=True, sort=False)\n",
    "target"
   ]
  },
  {
   "cell_type": "markdown",
   "metadata": {},
   "source": [
    "### Prepare the predictors dataset\n",
    "#### Select the climate data\n",
    "Get closest accession to Madrid and Tübingen --> Manual selection from 2029gaccessions.tsv: \n",
    "\n",
    "- Tuebingen 48.544886 9.043042: **1813** 9792 9792 0 0 0 1 Lu4-2 GER 48.54 9.09 0 NA CS77058 Arabidopsis thaliana NA 10\n",
    "- Madrid 40.408049 -3.835350: **1845** 9825 9825 0 0 0 1 IP-Boa-0 Spain 40.4 -3.88 Carlos Alonso-Blanco NA CS76714 Arabidopsis thaliana NA 134\n",
    "\n"
   ]
  },
  {
   "cell_type": "markdown",
   "metadata": {},
   "source": [
    "<img src='Tuebingen.png' width=\"600\"></img>"
   ]
  },
  {
   "cell_type": "markdown",
   "metadata": {},
   "source": [
    "<img src='Madrid.png' width=\"600\"></img>"
   ]
  },
  {
   "cell_type": "markdown",
   "metadata": {},
   "source": [
    "#### Prepare predictors\n",
    "In a stepwise manner: \n",
    "- predictors part 1 concatenates the entire dataset with the 10k random SNPs 4 times, and drops the 'betas' columns that will serve later as the target.\n",
    "- the annotation information is then added to the predictors 1 and numerically encoded\n",
    "- predictors part 2 is generated out of the climate data"
   ]
  },
  {
   "cell_type": "code",
   "execution_count": null,
   "metadata": {},
   "outputs": [],
   "source": [
    "# Predictors part 1\n",
    "\n",
    "df = pd.read_csv(f'/Carnegie/DPB/Data/Shared/Labs/Moi/Everyone/deepselection/randomForest/randomSNPs_55climvars_4rFit.txt', delim_whitespace=True)\n",
    "pred1 = pd.DataFrame(df)\n",
    "pred1 = pd.concat([pred1]*4, ignore_index=True)\n",
    "pred1.drop(columns=['rFitness2_mlp', 'rFitness2_mli', 'rFitness2_thp', 'rFitness2_thi'], inplace=True)\n",
    "pred1.to_csv(r'/Carnegie/DPB/Data/Shared/Labs/Moi/Everyone/deepselection/randomForest/pred1.txt', sep='\\t')\n",
    "pred1"
   ]
  },
  {
   "cell_type": "code",
   "execution_count": null,
   "metadata": {},
   "outputs": [],
   "source": [
    "# add annotation to predictors pred1 dataset\n",
    "\n",
    "df = pd.read_csv(f'/Carnegie/DPB/Data/Shared/Labs/Moi/Everyone/deepselection/randomForest/515g2.ann.txt', sep='\\t')\n",
    "pred1 = pd.read_csv('/Carnegie/DPB/Data/Shared/Labs/Moi/Everyone/deepselection/randomForest/pred1.txt', sep='\\t')\n",
    "pred1 = pred1.iloc[:, 1:]\n",
    "pred1 = pred1.join(df.set_index('rs'), on='rs')\n",
    "pred1 = pred1.drop(columns=['chr', 'ps', 'allel1', 'allel2'])\n",
    "pred1 = pred1.iloc[:, 1:]"
   ]
  },
  {
   "cell_type": "code",
   "execution_count": null,
   "metadata": {},
   "outputs": [],
   "source": [
    "# encode annotation numerically\n",
    "\n",
    "lb = LabelEncoder()\n",
    "pred1['ann'] = lb.fit_transform(pred1['ann'])"
   ]
  },
  {
   "cell_type": "code",
   "execution_count": null,
   "metadata": {},
   "outputs": [],
   "source": [
    "pred1"
   ]
  },
  {
   "cell_type": "code",
   "execution_count": null,
   "metadata": {},
   "outputs": [],
   "source": [
    "pred2 = pd.read_csv(f'/Carnegie/DPB/Data/Shared/Labs/Moi/Everyone/natvar/climate/2029gclimate.tsv', delim_whitespace=True)\n",
    "pred2a = pd.concat([pred2.iloc[[1813]]]*int(len(pred1)/2), ignore_index=True) #1813 = accession close to Thübingen\n",
    "pred2b = pd.concat([pred2.iloc[[1845]]]*int(len(pred1)/2), ignore_index=True) #1845 = accession close to Madrid\n",
    "pred2_fin = pd.concat([pred2b, pred2a], axis=0) #concat this way, to have Madrid at first, then Thübingen\n",
    "pred2_fin = pred2_fin.iloc[:, :-12]"
   ]
  },
  {
   "cell_type": "code",
   "execution_count": null,
   "metadata": {},
   "outputs": [],
   "source": [
    "predictors = pd.concat([pred1.reset_index(drop=True), pred2_fin.reset_index(drop=True)], axis=1, sort=False)  # without reset_index, NAs were introduced in DF\n",
    "predictors"
   ]
  },
  {
   "cell_type": "markdown",
   "metadata": {},
   "source": [
    "## Random Forest\n",
    "### Input variable preparation and distribution plots"
   ]
  },
  {
   "cell_type": "code",
   "execution_count": null,
   "metadata": {},
   "outputs": [],
   "source": [
    "y = target['beta']\n",
    "X = predictors.copy()"
   ]
  },
  {
   "cell_type": "code",
   "execution_count": null,
   "metadata": {},
   "outputs": [],
   "source": [
    "# check distribution of target\n",
    "sns.distplot(y)\n",
    "plt.xlabel('Combined beta values as target variable')\n",
    "plt.title('Distribution of target')\n",
    "#plt.savefig('Output/02_TargetVarDist.png', bbox_inches='tight', dpi=600)"
   ]
  },
  {
   "cell_type": "code",
   "execution_count": null,
   "metadata": {},
   "outputs": [],
   "source": [
    "# check distribution of selected predictors\n",
    "\n",
    "a = X['ann']\n",
    "b = X['bio1']\n",
    "c = X['clim-bio19']\n",
    "\n",
    "sns.set()\n",
    "fig, (ax1, ax2, ax3) = plt.subplots(1,3, figsize = (24, 6))\n",
    "fig.suptitle('Distribution of beta values from selected predictor variables') \n",
    "sns.distplot(a, ax=ax1)\n",
    "sns.distplot(b, ax=ax2)\n",
    "sns.distplot(c, ax=ax3)\n",
    "ax1.set_xlabel('Annotation')\n",
    "ax2.set_xlabel('Worldclim | bio1')\n",
    "ax3.set_xlabel('Betas | bio1')\n",
    "fig.show()\n",
    "#fig.savefig('Output/02_PredVarDist.png', bbox_inches='tight', dpi=600)"
   ]
  },
  {
   "cell_type": "markdown",
   "metadata": {},
   "source": [
    "### Packages"
   ]
  },
  {
   "cell_type": "code",
   "execution_count": null,
   "metadata": {},
   "outputs": [],
   "source": [
    "from sklearn.ensemble import RandomForestRegressor\n",
    "from sklearn.model_selection import train_test_split\n",
    "from sklearn import preprocessing\n",
    "from sklearn.preprocessing import QuantileTransformer, quantile_transform\n",
    "from sklearn import metrics\n",
    "from sklearn.metrics import r2_score, accuracy_score\n",
    "from scipy.stats import spearmanr, pearsonr\n",
    "from yellowbrick.regressor import PredictionError, ResidualsPlot\n",
    "from yellowbrick.features import Rank1D"
   ]
  },
  {
   "cell_type": "markdown",
   "metadata": {},
   "source": [
    "***"
   ]
  },
  {
   "cell_type": "markdown",
   "metadata": {},
   "source": [
    "### Sklearn Random Forest Regression\n",
    "Using all predictor variables"
   ]
  },
  {
   "cell_type": "code",
   "execution_count": null,
   "metadata": {},
   "outputs": [],
   "source": [
    "# Fit regression model\n",
    "X_train, X_test, y_train, y_test = train_test_split(X, y, test_size=0.2, random_state=0)\n",
    "regr_rf = RandomForestRegressor(oob_score=True, random_state=0, n_estimators=500)\n"
   ]
  },
  {
   "cell_type": "code",
   "execution_count": null,
   "metadata": {},
   "outputs": [],
   "source": [
    "y_test2plot = y_test.copy()\n",
    "y_test2plot = y_test2plot.reset_index()\n",
    "\n",
    "#MLP 0-9999\n",
    "#MLI 10000-19999\n",
    "#THI 20000-29999\n",
    "#THP 30000-39999\n",
    "\n",
    "y_test2plot['locat'] = ['MLP' if 0 <= x <= 9999 else 'MLI' if 10000 <= x <= 19999 else 'THI' if 20000 <= x <= 29999 else 'THP' for x in y_test2plot['index']]\n",
    "y_test2plot"
   ]
  },
  {
   "cell_type": "code",
   "execution_count": null,
   "metadata": {},
   "outputs": [],
   "source": [
    "# Training\n",
    "regr_rf.fit(X_train, y_train)"
   ]
  },
  {
   "cell_type": "code",
   "execution_count": null,
   "metadata": {},
   "outputs": [],
   "source": [
    "# Prediction\n",
    "y_rf = regr_rf.predict(X_test)"
   ]
  },
  {
   "cell_type": "code",
   "execution_count": null,
   "metadata": {},
   "outputs": [],
   "source": [
    "predicted_train = regr_rf.predict(X_train)\n",
    "predicted_test = regr_rf.predict(X_test)\n",
    "test_score = r2_score(y_test, predicted_test)\n",
    "spearman = spearmanr(y_test, predicted_test)\n",
    "pearson = pearsonr(y_test, predicted_test)"
   ]
  },
  {
   "cell_type": "code",
   "execution_count": null,
   "metadata": {},
   "outputs": [],
   "source": [
    "# Metrics --> printed to file\n",
    "\n",
    "print('Mean Absolute Error (MAE):', metrics.mean_absolute_error(y_test, y_rf), file=open('Output/02_Metrics.txt', 'a'))\n",
    "print('Mean Squared Error (MSE):', metrics.mean_squared_error(y_test, y_rf), file=open('Output/02_Metrics.txt', 'a'))\n",
    "print('Root Mean Squared Error (RMSE):', np.sqrt(metrics.mean_squared_error(y_test, y_rf)), file=open('Output/02_Metrics.txt', 'a'))\n",
    "\n",
    "print('Further statistics:', file=open('Output/02_Metrics.txt', 'a'))\n",
    "print(f'Out-of-bag R2 score estimate: {regr_rf.oob_score_:>5.3}', file=open('Output/02_Metrics.txt', 'a'))\n",
    "print(f'Test data R2 score: {test_score:>5.3}', file=open('Output/02_Metrics.txt', 'a'))\n",
    "print(f'Test data Spearman correlation: {spearman[0]:.3}', file=open('Output/02_Metrics.txt', 'a'))\n",
    "print(f'Test data Pearson correlation: {pearson[0]:.3}', file=open('Output/02_Metrics.txt', 'a'))\n"
   ]
  },
  {
   "cell_type": "markdown",
   "metadata": {},
   "source": [
    "#### Plot results with Yellowbrick\n",
    "https://www.scikit-yb.org/en/latest/api/regressor/peplot.html"
   ]
  },
  {
   "cell_type": "code",
   "execution_count": null,
   "metadata": {},
   "outputs": [],
   "source": [
    "# Residuals plot\n",
    "\n",
    "f = plt.figure()\n",
    "visualizer = ResidualsPlot(regr_rf)\n",
    "visualizer.fit(X_train, y_train)\n",
    "visualizer.score(X_test, y_test)\n",
    "visualizer.show()\n",
    "#f.savefig(\"Output/02_Residuals.png\", bbox_inches='tight', dpi=600)"
   ]
  },
  {
   "cell_type": "code",
   "execution_count": null,
   "metadata": {},
   "outputs": [],
   "source": [
    "# Prediction error plot\n",
    "\n",
    "f = plt.figure()\n",
    "visualizer = PredictionError(regr_rf)\n",
    "visualizer.fit(X_train, y_train)\n",
    "visualizer.score(X_test, y_test)\n",
    "visualizer.show()\n",
    "#f.savefig(\"Output/02_PredActual.png\", bbox_inches='tight', dpi=600)\n"
   ]
  },
  {
   "cell_type": "code",
   "execution_count": null,
   "metadata": {},
   "outputs": [],
   "source": [
    "y_rf2plot = pd.DataFrame(y_rf)\n",
    "df2plot = pd.concat([y_test2plot, y_rf2plot], axis=1)\n",
    "df2plot.columns = ['index', 'actual', 'Location', 'pred']\n",
    "#df2plot.to_csv('Input/02_RF_10k_predictedValues.csv')"
   ]
  },
  {
   "cell_type": "code",
   "execution_count": null,
   "metadata": {},
   "outputs": [],
   "source": [
    "#df2plot = pd.read_csv('Input/02_RF_10k_predictedValues.csv')\n",
    "\n",
    "# order MLI - MLP - THP - THI\n",
    "col = ['#006e00','#984ea3', '#ebac23','#b80058']\n",
    "\n",
    "sns.set(rc={'figure.figsize':(13,10)})\n",
    "sns.set_style(\"whitegrid\")\n",
    "sns.set_palette(col)\n",
    "s = sns.scatterplot(x='pred', y='actual', hue='Location',  sizes=(20), data=df2plot) #alpha=0.8\n",
    "plt.title(\"Random forest | 10k random SNPs\", size= 16, pad=25)\n",
    "plt.suptitle(\"Actual vs predicted selection coefficients from MAD and TUE\", size = 20)\n",
    "plt.xlabel(\"Predicted\", size=16)\n",
    "plt.ylabel(\"Actual\", size=16)\n",
    "plt.xlim(-1,3)\n",
    "plt.ylim(-1,3)\n",
    "plt.setp(s.get_legend().get_texts(), fontsize='16') # for legend text\n",
    "plt.setp(s.get_legend().get_title(), fontsize='18') # for legend title\n",
    "#plt.savefig('Output/02_RF_10k_PredActual.png', bbox_inches='tight')"
   ]
  },
  {
   "cell_type": "code",
   "execution_count": null,
   "metadata": {},
   "outputs": [],
   "source": [
    "# plot separated\n",
    "sns.set_style(\"whitegrid\")\n",
    "sns.set_palette(col)\n",
    "\n",
    "sns.relplot(\n",
    "    data=df2plot, x='pred', y='actual',\n",
    "    col=\"Location\", hue=\"Location\",\n",
    "    kind=\"scatter\")"
   ]
  },
  {
   "cell_type": "markdown",
   "metadata": {},
   "source": [
    "Feature Importance:\n",
    "https://machinelearningmastery.com/calculate-feature-importance-with-python/"
   ]
  },
  {
   "cell_type": "code",
   "execution_count": null,
   "metadata": {},
   "outputs": [],
   "source": [
    "importance = regr_rf.feature_importances_         # get importance\n",
    "\n",
    "# summarize feature importance\n",
    "#for i,v in enumerate(importance):\n",
    "#\tprint('Feature: %0d, Score: %.5f' % (i,v))\n",
    "\n",
    "labels = list(X.columns.values)\n",
    "\n",
    "plt.figure(figsize=(18,8))\n",
    "plt.title(\"Feature importance | 10k random SNPs | MAD and TUE\", size=20, pad=25)\n",
    "plt.xlabel(\"Features\", size=18)\n",
    "plt.ylabel(\"Score\", size=18)\n",
    "imp = sns.barplot([x for x in range(len(importance))], importance, palette=\"viridis\")\n",
    "imp.set_xticklabels(labels,  rotation='vertical')\n",
    "#plt.savefig('Output/02_Features.png', bbox_inches='tight', dpi=600)"
   ]
  }
 ],
 "metadata": {
  "kernelspec": {
   "display_name": "Python 3",
   "language": "python",
   "name": "python3"
  },
  "language_info": {
   "codemirror_mode": {
    "name": "ipython",
    "version": 3
   },
   "file_extension": ".py",
   "mimetype": "text/x-python",
   "name": "python",
   "nbconvert_exporter": "python",
   "pygments_lexer": "ipython3",
   "version": "3.6.6"
  }
 },
 "nbformat": 4,
 "nbformat_minor": 4
}
