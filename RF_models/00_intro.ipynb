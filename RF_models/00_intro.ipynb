{
 "cells": [
  {
   "cell_type": "markdown",
   "metadata": {},
   "source": [
    "# Predicting the genetics of fitness (selection coefficient) of *A. thaliana* genotypes using Random Forest\n",
    "\n",
    "\n",
    "Available datasets:\n",
    "- **TARGET**: Fitness GWAS output (selection coefficients) from various locations\n",
    "    - attempt 1: from two extreme environments: Madrid vs Tübingen (MLP, MLI vs TLP, TLI)\n",
    "    - attempt 2: from additional five locations:\n",
    "    \n",
    "| Country | lon | lat |\n",
    "| --- | --- | --- |\n",
    "| Andalucia | 36.76539 | -5.499419 |\n",
    "| Germany | 51.49702 | 11.970655 |\n",
    "| Finland | 65.00307 | 25.472679 |\n",
    "| Spain | 39.48083 | -0.340985|\n",
    "| UK | 52.62779 | 1.293458 |\n",
    "| Tuebingen | 48.544886 | 9.043042 |\n",
    "| Madrid | 40.408049 | -3.83535 |\n",
    "\n",
    "\n",
    "- **PREDICTORS**: \n",
    "    - data from 55 climate variables: tmin1-12, tmax1-12, prec1-12, and bio1-19\n",
    "    - GWAS output (corr. coeff.) of the same 55 climate variables \n",
    "    - SNP annotation information\n",
    "    \n",
    "Various SNP selection options were tested:\n",
    "- 10k SNPs out of the list of ca. 1,3 mio SNPs (from GWAS) were selected randomly \n",
    "- SNPs were selected from distribution tails (either from both sites, or only from positive site) of sel. coeff.\n",
    "\n",
    "*Abbreviations*: M...Madrid, T...Tübingen, L...Low precipitation, H...High precipitation, I...Individual replicates (1 plant/pot), P...Population replicates (<30 plants/pot)"
   ]
  },
  {
   "cell_type": "markdown",
   "metadata": {},
   "source": [
    "***\n",
    "Info section:\n",
    " - Underlying publication: https://www.nature.com/articles/s41586-019-1520-9\n",
    " - Markdown formatting: https://medium.com/ibm-data-science-experience/markdown-for-jupyter-notebooks-cheatsheet-386c05aeebed\n",
    "***\n"
   ]
  }
 ],
 "metadata": {
  "kernelspec": {
   "display_name": "Python 3",
   "language": "python",
   "name": "python3"
  },
  "language_info": {
   "codemirror_mode": {
    "name": "ipython",
    "version": 3
   },
   "file_extension": ".py",
   "mimetype": "text/x-python",
   "name": "python",
   "nbconvert_exporter": "python",
   "pygments_lexer": "ipython3",
   "version": "3.6.6"
  }
 },
 "nbformat": 4,
 "nbformat_minor": 4
}
