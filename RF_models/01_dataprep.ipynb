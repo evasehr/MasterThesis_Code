{
 "cells": [
  {
   "cell_type": "markdown",
   "metadata": {},
   "source": [
    "# Data curation and preparation\n",
    "\n",
    "\n"
   ]
  },
  {
   "cell_type": "markdown",
   "metadata": {},
   "source": [
    "## Import packages"
   ]
  },
  {
   "cell_type": "code",
   "execution_count": 1,
   "metadata": {},
   "outputs": [],
   "source": [
    "import os\n",
    "import random\n",
    "import pandas as pd\n",
    "import numpy as np"
   ]
  },
  {
   "cell_type": "markdown",
   "metadata": {},
   "source": [
    "## Data curation\n",
    "The 'rs' column (= SNP ID) is essential as key-column for joining datasets. Since the 'rs' column was missing any strings in the rFitness_mlp|mli|tlp|tli.assoc.txt files, it was generated as follows and new files were saved:"
   ]
  },
  {
   "cell_type": "code",
   "execution_count": 2,
   "metadata": {},
   "outputs": [],
   "source": [
    "#rFitness_thp\n",
    "df = pd.read_csv(f'/Carnegie/DPB/Data/Shared/Labs/Moi/Everyone/deepselection/naturedata/rFitness_thp.assoc.txt', delim_whitespace=True)\n",
    "df['rs'] = df.agg('{0[chr]}_{0[ps]}'.format, axis=1)\n",
    "df.to_csv(r'/Carnegie/DPB/Data/Shared/Labs/Moi/Everyone/deepselection/randomForest/rFitness2_thp.assoc.txt', sep='\\t', index=False)\n",
    "\n",
    "#rFitness_thi\n",
    "df = pd.read_csv(f'/Carnegie/DPB/Data/Shared/Labs/Moi/Everyone/deepselection/naturedata/rFitness_thi.assoc.txt', delim_whitespace=True)\n",
    "df['rs'] = df.agg('{0[chr]}_{0[ps]}'.format, axis=1)\n",
    "df.to_csv(r'/Carnegie/DPB/Data/Shared/Labs/Moi/Everyone/deepselection/randomForest/rFitness2_thi.assoc.txt', sep='\\t', index=False)\n",
    "\n",
    "#rFitness_mlp\n",
    "df = pd.read_csv(f'/Carnegie/DPB/Data/Shared/Labs/Moi/Everyone/deepselection/naturedata/rFitness_mlp.assoc.txt', delim_whitespace=True)\n",
    "df['rs'] = df.agg('{0[chr]}_{0[ps]}'.format, axis=1)\n",
    "df.to_csv(r'/Carnegie/DPB/Data/Shared/Labs/Moi/Everyone/deepselection/randomForest/rFitness2_mlp.assoc.txt', sep='\\t', index=False)\n",
    "\n",
    "#rFitness_mli\n",
    "df = pd.read_csv(f'/Carnegie/DPB/Data/Shared/Labs/Moi/Everyone/deepselection/naturedata/rFitness_mli.assoc.txt', delim_whitespace=True)\n",
    "df['rs'] = df.agg('{0[chr]}_{0[ps]}'.format, axis=1)\n",
    "df.to_csv(r'/Carnegie/DPB/Data/Shared/Labs/Moi/Everyone/deepselection/randomForest/rFitness2_mli.assoc.txt', sep='\\t', index=False)"
   ]
  },
  {
   "cell_type": "code",
   "execution_count": 2,
   "metadata": {},
   "outputs": [],
   "source": [
    "#annotation\n",
    "df = pd.read_csv(f'/Carnegie/DPB/Data/Shared/Labs/Moi/Everyone/deepselection/naturedata/515g.ann.txt', sep='\\t', names=['chr', 'ps', 'allel1', 'allel2', 'ann'])\n",
    "df['rs'] = df.agg('{0[chr]}_{0[ps]}'.format, axis=1)  # create rs column out of chr and ps, necessary for later df merge\n",
    "df.to_csv(r'/Carnegie/DPB/Data/Shared/Labs/Moi/Everyone/deepselection/randomForest/515g2.ann.txt', sep='\\t', index=False)"
   ]
  },
  {
   "cell_type": "markdown",
   "metadata": {},
   "source": [
    "## Generate the input dataframe\n",
    "### Table with betas: Madrid & Tübingen\n",
    "A dataframe containing the betas from the GWAS on the 55 selected climate variables (as predictors) and the betas from the fitness GWAS from two locations (MLI, MLP vs THI, THP, that will be concatenated as the target variable) was created using the following script:"
   ]
  },
  {
   "cell_type": "code",
   "execution_count": null,
   "metadata": {},
   "outputs": [],
   "source": [
    "# via os walk, loop through folder system of ../deepselection/ to gather the betas from xxx.assoc.txt files\n",
    "# final table with betas is saved to ../randomForest/\n",
    "\n",
    "%run /Carnegie/DPB/Data/Shared/Labs/Moi/Everyone/deepselection/code/GenerateBetaTable_naturedata.py"
   ]
  },
  {
   "cell_type": "markdown",
   "metadata": {},
   "source": [
    "### Table with betas from further 5 locations (see 00_intro.ipynb)\n",
    "A dataframe containing the betas from the GWAS on the 55 selected climate variables (as predictors) and the betas from the fitness GWAS from further five locations (that will be concatenated as the target variable) was created using the following script:"
   ]
  },
  {
   "cell_type": "code",
   "execution_count": null,
   "metadata": {},
   "outputs": [],
   "source": [
    "%run /Carnegie/DPB/Data/Shared/Labs/Moi/Everyone/deepselection/code/GenerateBetaTable_5locs.py"
   ]
  }
 ],
 "metadata": {
  "kernelspec": {
   "display_name": "Python 3",
   "language": "python",
   "name": "python3"
  },
  "language_info": {
   "codemirror_mode": {
    "name": "ipython",
    "version": 3
   },
   "file_extension": ".py",
   "mimetype": "text/x-python",
   "name": "python",
   "nbconvert_exporter": "python",
   "pygments_lexer": "ipython3",
   "version": "3.6.6"
  }
 },
 "nbformat": 4,
 "nbformat_minor": 4
}
