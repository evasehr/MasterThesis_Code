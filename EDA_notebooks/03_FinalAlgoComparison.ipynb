{
 "cells": [
  {
   "cell_type": "markdown",
   "metadata": {},
   "source": [
    "# Comparison of algorithm performance"
   ]
  },
  {
   "cell_type": "code",
   "execution_count": null,
   "metadata": {},
   "outputs": [],
   "source": [
    "import pandas as pd\n",
    "import numpy as np\n",
    "import matplotlib.pyplot as plt\n",
    "import seaborn as sns\n",
    "\n",
    "%matplotlib inline\n",
    "sns.set(color_codes=True)\n",
    "sns.set_style(\"whitegrid\")\n",
    "sns.set(rc={'figure.figsize':(13,10)})\n",
    "\n",
    "pd.set_option('display.max_columns', 999)"
   ]
  },
  {
   "cell_type": "code",
   "execution_count": null,
   "metadata": {},
   "outputs": [],
   "source": [
    "df = pd.read_csv('~/EDA_notebooks/Input/algorithm_comparison.csv')"
   ]
  },
  {
   "cell_type": "code",
   "execution_count": null,
   "metadata": {},
   "outputs": [],
   "source": [
    "df = df.append(pd.Series(['RF-7-MLI', 'RF', 7, 'HD, LD', 'MLI', -2.52, '' ,0.569], index=df.columns ), ignore_index=True)"
   ]
  },
  {
   "cell_type": "code",
   "execution_count": null,
   "metadata": {},
   "outputs": [],
   "source": [
    "df = df.append(pd.Series(['NNSL-7-MLI-HL10', 'NN-SL', 7, 'HD, LD', 'MLI', -2.673, '' ,0.581], index=df.columns ), ignore_index=True)"
   ]
  },
  {
   "cell_type": "code",
   "execution_count": null,
   "metadata": {},
   "outputs": [],
   "source": [
    "df = df.append(pd.Series(['NNSL-7-10k-Chr1-HL10', 'NN-SL', 7, 'HD, LD', 'Chr1', 0.522, '' ,0.088], index=df.columns ), ignore_index=True)\n",
    "df"
   ]
  },
  {
   "cell_type": "code",
   "execution_count": null,
   "metadata": {},
   "outputs": [],
   "source": [
    "rf = df[df['Algorithm']=='RF']\n",
    "rf"
   ]
  },
  {
   "cell_type": "code",
   "execution_count": null,
   "metadata": {},
   "outputs": [],
   "source": [
    "rf['CVgroup'] = [1,1,1,1,1,1,2,2,2,2,2,3,3,2] \n",
    "rf"
   ]
  },
  {
   "cell_type": "code",
   "execution_count": null,
   "metadata": {},
   "outputs": [],
   "source": [
    "rf_sort = rf.groupby('CVgroup').apply(pd.DataFrame.sort_values, 'Rsqu')\n",
    "rf_sort"
   ]
  },
  {
   "cell_type": "code",
   "execution_count": null,
   "metadata": {},
   "outputs": [],
   "source": [
    "# https://gist.github.com/pfandzelter/0ae861f0dee1fb4fd1d11344e3f85c9e\n",
    "sns.set(rc={'figure.figsize':(13,6)})\n",
    "sns.set_style(\"whitegrid\")\n",
    "\n",
    "f, (ax1, ax2) = plt.subplots(ncols=1, nrows=2,\n",
    "                             sharex=True)\n",
    "\n",
    "ax1 = sns.barplot(x='Name', y='Rsqu',\n",
    "                  data=rf_sort, palette='viridis', ax=ax1)\n",
    "ax2 = sns.barplot(x='Name', y='Rsqu',\n",
    "                  data=rf_sort, palette='viridis', ax=ax2)\n",
    "\n",
    "ax1.set_ylim(-3, 1.5)\n",
    "ax2.set_ylim(-7.4, -6)\n",
    "ax1.get_xaxis().set_visible(False)\n",
    "ax1.set_ylabel(\"\")\n",
    "ax2.set_ylabel(\"\")\n",
    "\n",
    "# adjust:\n",
    "f.text(0.08, 0.55, 'R² values', va='center', rotation='vertical', size=16)\n",
    "\n",
    "ax1.xaxis.tick_top()\n",
    "ax2.xaxis.tick_bottom()\n",
    "\n",
    "f.subplots_adjust(left=0.15, right=0.85, bottom=0.15, top=0.85)\n",
    "\n",
    "plt.setp(ax2.get_xticklabels(), rotation=30, ha=\"right\",\n",
    "             rotation_mode=\"anchor\") \n",
    "\n",
    "plt.xlabel(\"RF models\", size=16)\n",
    "ax1.set_title('CV by test-train split | location | chromosome', size = 16, pad=10)\n",
    "\n",
    "d = .01  # how big to make the diagonal lines in axes coordinates\n",
    "kwargs = dict(transform=ax1.transAxes, color='k', clip_on=False)\n",
    "ax1.plot((-d, +d), (-d, +d), **kwargs)        # top-left diagonal\n",
    "ax1.plot((1 - d, 1 + d), (-d, +d), **kwargs)  # top-right diagonal\n",
    "\n",
    "kwargs.update(transform=ax2.transAxes)  # switch to the bottom axes\n",
    "ax2.plot((-d, +d), (1 - d, 1 + d), **kwargs)  # bottom-left diagonal\n",
    "ax2.plot((1 - d, 1 + d), (1 - d, 1 + d), **kwargs)  # bottom-right diagonal\n",
    "\n",
    "# separation between groups\n",
    "ax2.vlines(x=5.5, ymin=-33.5, ymax=-1, ls='--', lw=2)\n",
    "ax1.vlines(x=5.5, ymin=-5, ymax=1.5, ls='--', lw=2)\n",
    "\n",
    "ax2.vlines(x=10.5, ymin=-33.5, ymax=-1, ls='--', lw=2)\n",
    "ax1.vlines(x=10.5, ymin=-5, ymax=1.5, ls='--', lw=2)\n",
    "\n",
    "f.suptitle('Random forest models comparison', size = 20)\n",
    "f.show()\n",
    "#f.savefig('RF_models.png', bbox_inches='tight')"
   ]
  },
  {
   "cell_type": "code",
   "execution_count": null,
   "metadata": {},
   "outputs": [],
   "source": [
    "# replace negatives with zero\n",
    "rf_sort['Rsqu'][rf_sort['Rsqu'] < 0] = 0\n",
    "rf_sort"
   ]
  },
  {
   "cell_type": "code",
   "execution_count": null,
   "metadata": {},
   "outputs": [],
   "source": [
    "sns.set(rc={'figure.figsize':(13,6)})\n",
    "sns.set_style(\"whitegrid\")\n",
    "\n",
    "\n",
    "fig = sns.barplot(x='Name', y='Rsqu',\n",
    "                  data=rf_sort, palette='viridis')\n",
    "\n",
    "fig.set_ylabel(\"\") # remove original y-label\n",
    "fig.text(-2, 0.6, 'R² values', va='center', rotation='vertical', size=16) # add new one and adjust position\n",
    "\n",
    "#ax1.xaxis.tick_top()\n",
    "fig.xaxis.tick_bottom()\n",
    "plt.setp(fig.get_xticklabels(), rotation=30, ha=\"right\",\n",
    "             rotation_mode=\"anchor\") \n",
    "\n",
    "plt.xlabel(\"RF models\", size=16)\n",
    "#plt.title('CV by test-train split | location | chromosome', size = 16, pad=20)\n",
    "\n",
    "fig.text(1.2, 1.1, 'CV | train-test-split', va='center', size=12)\n",
    "fig.text(7, 1.1, 'CV | one location', va='center', size=12)\n",
    "fig.text(11.6, 1.1, 'CV | chromosome 1', va='center', size=12)\n",
    "\n",
    "\n",
    "# separation between groups\n",
    "fig.vlines(x=5.5, ymin=0, ymax=1.2, ls='--', lw=2)\n",
    "fig.vlines(x=11.5, ymin=0, ymax=1.2, ls='--', lw=2)\n",
    "\n",
    "plt.suptitle('Random forest models comparison', size = 20)\n",
    "#plt.savefig('RF_models_v2.png', bbox_inches='tight')"
   ]
  },
  {
   "cell_type": "code",
   "execution_count": null,
   "metadata": {},
   "outputs": [],
   "source": [
    "nn =df[df['Algorithm']!='RF']\n",
    "nn"
   ]
  },
  {
   "cell_type": "code",
   "execution_count": null,
   "metadata": {},
   "outputs": [],
   "source": [
    "nn['CVgroup'] = [1,1,1,1,1,1,3,2,1,3,2,2,3] \n",
    "nn"
   ]
  },
  {
   "cell_type": "code",
   "execution_count": null,
   "metadata": {},
   "outputs": [],
   "source": [
    "nn_sort = nn.groupby('CVgroup').apply(pd.DataFrame.sort_values, 'Rsqu')\n",
    "nn_sort"
   ]
  },
  {
   "cell_type": "code",
   "execution_count": null,
   "metadata": {},
   "outputs": [],
   "source": [
    "# https://gist.github.com/pfandzelter/0ae861f0dee1fb4fd1d11344e3f85c9e\n",
    "sns.set(rc={'figure.figsize':(13,6)})\n",
    "sns.set_style(\"whitegrid\")\n",
    "\n",
    "f, (ax1, ax2) = plt.subplots(ncols=1, nrows=2,\n",
    "                             sharex=True)\n",
    "\n",
    "ax1 = sns.barplot(x='Name', y='Rsqu',\n",
    "                  data=nn_sort, palette='viridis', ax=ax1)\n",
    "ax2 = sns.barplot(x='Name', y='Rsqu',\n",
    "                  data=nn_sort, palette='viridis', ax=ax2)\n",
    "\n",
    "ax1.set_ylim(-4.5, 1)\n",
    "ax2.set_ylim(-33.5, -28)\n",
    "ax1.get_xaxis().set_visible(False)\n",
    "ax1.set_ylabel(\"\")\n",
    "ax2.set_ylabel(\"\")\n",
    "\n",
    "# adjust:\n",
    "f.text(0.08, 0.55, 'R² values', va='center', rotation='vertical', size=16)\n",
    "\n",
    "ax1.xaxis.tick_top()\n",
    "ax2.xaxis.tick_bottom()\n",
    "\n",
    "f.subplots_adjust(left=0.15, right=0.85, bottom=0.15, top=0.85)\n",
    "\n",
    "plt.setp(ax2.get_xticklabels(), rotation=30, ha=\"right\",\n",
    "             rotation_mode=\"anchor\")    \n",
    "    \n",
    "plt.xlabel(\"NN models\", size=16)\n",
    "ax1.set_title('CV by test-train split | location | chromosome', size = 16, pad=10)\n",
    "\n",
    "d = .01  # how big to make the diagonal lines in axes coordinates\n",
    "kwargs = dict(transform=ax1.transAxes, color='k', clip_on=False)\n",
    "ax1.plot((-d, +d), (-d, +d), **kwargs)        # top-left diagonal\n",
    "ax1.plot((1 - d, 1 + d), (-d, +d), **kwargs)  # top-right diagonal\n",
    "\n",
    "kwargs.update(transform=ax2.transAxes)  # switch to the bottom axes\n",
    "ax2.plot((-d, +d), (1 - d, 1 + d), **kwargs)  # bottom-left diagonal\n",
    "ax2.plot((1 - d, 1 + d), (1 - d, 1 + d), **kwargs)  # bottom-right diagonal\n",
    "\n",
    "# separation between groups\n",
    "ax2.vlines(x=6.5, ymin=-33.5, ymax=-1, ls='--', lw=2)\n",
    "ax1.vlines(x=6.5, ymin=-5, ymax=1, ls='--', lw=2)\n",
    "\n",
    "ax2.vlines(x=8.5, ymin=-33.5, ymax=-1, ls='--', lw=2)\n",
    "ax1.vlines(x=8.5, ymin=-5, ymax=1, ls='--', lw=2)\n",
    "\n",
    "f.suptitle('Neural network models comparison', size = 20)\n",
    "f.show()\n",
    "#f.savefig('NN_models.png', bbox_inches='tight')"
   ]
  },
  {
   "cell_type": "code",
   "execution_count": null,
   "metadata": {},
   "outputs": [],
   "source": [
    "# replace negatives with zero\n",
    "nn_sort['Rsqu'][nn_sort['Rsqu'] < 0] = 0\n",
    "nn_sort"
   ]
  },
  {
   "cell_type": "code",
   "execution_count": null,
   "metadata": {},
   "outputs": [],
   "source": [
    "sns.set(rc={'figure.figsize':(13,6)})\n",
    "sns.set_style(\"whitegrid\")\n",
    "\n",
    "\n",
    "fig = sns.barplot(x='Name', y='Rsqu',\n",
    "                  data=nn_sort, palette='viridis')\n",
    "\n",
    "fig.set_ylabel(\"\") # remove original y-label\n",
    "fig.text(-2, 0.6, 'R² values', va='center', rotation='vertical', size=16) # add new one and adjust position\n",
    "\n",
    "#ax1.xaxis.tick_top()\n",
    "fig.xaxis.tick_bottom()\n",
    "plt.setp(fig.get_xticklabels(), rotation=30, ha=\"right\",\n",
    "             rotation_mode=\"anchor\") \n",
    "\n",
    "plt.xlabel(\"NN models\", size=16)\n",
    "#plt.title('CV by test-train split | location | chromosome', size = 16, pad=20)\n",
    "\n",
    "fig.text(1.4, 1.1, 'CV | train-test-split', va='center', size=12)\n",
    "fig.text(7, 1.1, 'CV | one location', va='center', size=12)\n",
    "fig.text(10.1, 1.1, 'CV | chromosome 1', va='center', size=12)\n",
    "\n",
    "\n",
    "# separation between groups\n",
    "fig.vlines(x=6.5, ymin=0, ymax=1.2, ls='--', lw=2)\n",
    "fig.vlines(x=9.5, ymin=0, ymax=1.2, ls='--', lw=2)\n",
    "\n",
    "plt.suptitle('Neural network models comparison', size = 20)\n",
    "plt.savefig('NN_models_v2.png', bbox_inches='tight')"
   ]
  }
 ],
 "metadata": {
  "kernelspec": {
   "display_name": "Python 3",
   "language": "python",
   "name": "python3"
  },
  "language_info": {
   "codemirror_mode": {
    "name": "ipython",
    "version": 3
   },
   "file_extension": ".py",
   "mimetype": "text/x-python",
   "name": "python",
   "nbconvert_exporter": "python",
   "pygments_lexer": "ipython3",
   "version": "3.6.6"
  }
 },
 "nbformat": 4,
 "nbformat_minor": 4
}
