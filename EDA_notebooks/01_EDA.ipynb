{
 "cells": [
  {
   "cell_type": "markdown",
   "metadata": {},
   "source": [
    "# EDA before SNP selection"
   ]
  },
  {
   "cell_type": "code",
   "execution_count": null,
   "metadata": {},
   "outputs": [],
   "source": [
    "import random\n",
    "import pandas as pd\n",
    "import numpy as np\n",
    "from sklearn.preprocessing import LabelEncoder\n",
    "import matplotlib.pyplot as plt\n",
    "import seaborn as sns\n",
    "\n",
    "%matplotlib inline\n",
    "\n",
    "sns.set(color_codes=True)\n",
    "sns.set_style(\"whitegrid\")\n",
    "sns.set(rc={'figure.figsize':(13,10)})\n",
    "pd.set_option('display.max_columns', 999)"
   ]
  },
  {
   "cell_type": "code",
   "execution_count": null,
   "metadata": {},
   "outputs": [],
   "source": [
    "betas = pd.read_csv('/Carnegie/DPB/Data/Shared/Labs/Moi/Everyone/deepselection/randomForest/betas_woNAs_55climvars_rFit.txt', sep='\\t')\n",
    "betas.rename(columns={'clim-bio18.assoc_y':'clim-bio18'}, inplace=True)\n",
    "betas.drop(['clim-bio18.assoc_x'],axis=1, inplace=True)"
   ]
  },
  {
   "cell_type": "markdown",
   "metadata": {},
   "source": [
    "## Correlation matrix of climate-related selection coefficients"
   ]
  },
  {
   "cell_type": "code",
   "execution_count": null,
   "metadata": {},
   "outputs": [],
   "source": [
    "betas4corr = betas.iloc[:,5:].copy()\n",
    "betas4corr"
   ]
  },
  {
   "cell_type": "code",
   "execution_count": null,
   "metadata": {},
   "outputs": [],
   "source": [
    "betas4corr = betas4corr.reindex(sorted(betas4corr.columns), axis=1)"
   ]
  },
  {
   "cell_type": "code",
   "execution_count": null,
   "metadata": {},
   "outputs": [],
   "source": [
    "betas4corr.columns"
   ]
  },
  {
   "cell_type": "code",
   "execution_count": null,
   "metadata": {},
   "outputs": [],
   "source": [
    "betas4corr.columns = ['clim-bio01', 'clim-bio10', 'clim-bio11', 'clim-bio12', 'clim-bio13',\n",
    "       'clim-bio14', 'clim-bio15', 'clim-bio16', 'clim-bio17', 'clim-bio18',\n",
    "       'clim-bio19', 'clim-bio02', 'clim-bio03', 'clim-bio04', 'clim-bio05',\n",
    "       'clim-bio06', 'clim-bio07', 'clim-bio08', 'clim-bio09', 'clim-prec01',\n",
    "       'clim-prec10', 'clim-prec11', 'clim-prec12', 'clim-prec02', 'clim-prec03',\n",
    "       'clim-prec04', 'clim-prec05', 'clim-prec06', 'clim-prec07', 'clim-prec08',\n",
    "       'clim-prec09', 'clim-tmax01', 'clim-tmax10', 'clim-tmax11', 'clim-tmax12',\n",
    "       'clim-tmax02', 'clim-tmax03', 'clim-tmax04', 'clim-tmax05', 'clim-tmax06',\n",
    "       'clim-tmax07', 'clim-tmax08', 'clim-tmax09', 'clim-tmin01', 'clim-tmin10',\n",
    "       'clim-tmin11', 'clim-tmin12', 'clim-tmin02', 'clim-tmin03', 'clim-tmin04',\n",
    "       'clim-tmin05', 'clim-tmin06', 'clim-tmin07', 'clim-tmin08', 'clim-tmin09']"
   ]
  },
  {
   "cell_type": "code",
   "execution_count": null,
   "metadata": {},
   "outputs": [],
   "source": [
    "betas4corr.columns"
   ]
  },
  {
   "cell_type": "code",
   "execution_count": null,
   "metadata": {},
   "outputs": [],
   "source": [
    "betas4corr = betas4corr.reindex(sorted(betas4corr.columns), axis=1)"
   ]
  },
  {
   "cell_type": "code",
   "execution_count": null,
   "metadata": {},
   "outputs": [],
   "source": [
    "betas4corr.columns"
   ]
  },
  {
   "cell_type": "code",
   "execution_count": null,
   "metadata": {},
   "outputs": [],
   "source": [
    "betas4corr.columns = ['betas-bio01', 'betas-bio02', 'betas-bio03', 'betas-bio04', 'betas-bio05',\n",
    "       'betas-bio06', 'betas-bio07', 'betas-bio08', 'betas-bio09', 'betas-bio10',\n",
    "       'betas-bio11', 'betas-bio12', 'betas-bio13', 'betas-bio14', 'betas-bio15',\n",
    "       'betas-bio16', 'betas-bio17', 'betas-bio18', 'betas-bio19', 'betas-prec01',\n",
    "       'betas-prec02', 'betas-prec03', 'betas-prec04', 'betas-prec05',\n",
    "       'betas-prec06', 'betas-prec07', 'betas-prec08', 'betas-prec09',\n",
    "       'betas-prec10', 'betas-prec11', 'betas-prec12', 'betas-tmax01',\n",
    "       'betas-tmax02', 'betas-tmax03', 'betas-tmax04', 'betas-tmax05',\n",
    "       'betas-tmax06', 'betas-tmax07', 'betas-tmax08', 'betas-tmax09',\n",
    "       'betas-tmax10', 'betas-tmax11', 'betas-tmax12', 'betas-tmin01',\n",
    "       'betas-tmin02', 'betas-tmin03', 'betas-tmin04', 'betas-tmin05',\n",
    "       'betas-tmin06', 'betas-tmin07', 'betas-tmin08', 'betas-tmin09',\n",
    "       'betas-tmin10', 'betas-tmin11', 'betas-tmin12']"
   ]
  },
  {
   "cell_type": "code",
   "execution_count": null,
   "metadata": {},
   "outputs": [],
   "source": [
    "matrix = np.triu(betas4corr.corr())\n",
    "sns.set(rc={'figure.figsize':(14,14)})\n",
    "sns.set_style(\"whitegrid\")\n",
    "sns.heatmap(betas4corr.corr(), vmin=-1, vmax=1, center= 0, cmap= 'PRGn', mask=matrix, cbar_kws={\"shrink\": .70})\n",
    "plt.title('Correlation heatmap of climate-related correlation coefficients', fontsize=20)\n",
    "#plt.savefig('corr_climcorrcoeff.png', bbox_inches='tight')"
   ]
  },
  {
   "cell_type": "markdown",
   "metadata": {},
   "source": [
    "## Histogramm of fitness-related selection coefficients\n",
    "### Before SNP selection"
   ]
  },
  {
   "cell_type": "code",
   "execution_count": null,
   "metadata": {},
   "outputs": [],
   "source": [
    "# Extract mlp and mli datasets\n",
    "MLP = betas[['rs', 'rFitness2_mlp']]\n",
    "MLI = betas[['rs', 'rFitness2_mli']]\n",
    "THP = betas[['rs', 'rFitness2_thp']]\n",
    "THI = betas[['rs', 'rFitness2_thi']]"
   ]
  },
  {
   "cell_type": "code",
   "execution_count": null,
   "metadata": {},
   "outputs": [],
   "source": [
    "betas2 = pd.read_csv('/Carnegie/DPB/Data/Shared/Labs/Moi/Everyone/deepselection/randomForest/betas_woNAs_Fitness.txt', sep='\\t')\n",
    "betas2.rename(columns={'Fitness_Andaluci':'Fitness_Andalucia'}, inplace=True)\n",
    "betas2 = betas2[betas2.columns.drop(list(betas2.filter(regex='randomized')))]"
   ]
  },
  {
   "cell_type": "code",
   "execution_count": null,
   "metadata": {},
   "outputs": [],
   "source": [
    "AND = betas2[['rs', 'Fitness_Andalucia']]\n",
    "SPA = betas2[['rs', 'Fitness_Spain']]\n",
    "UKI = betas2[['rs', 'Fitness_UnitedKingdom']]\n",
    "FIN = betas2[['rs', 'Fitness_Finland']]\n",
    "GER = betas2[['rs', 'Fitness_Germany']]"
   ]
  },
  {
   "cell_type": "code",
   "execution_count": null,
   "metadata": {},
   "outputs": [],
   "source": [
    "a = MLP['rFitness2_mlp']\n",
    "b = MLI['rFitness2_mli']\n",
    "c = THP['rFitness2_thp']\n",
    "d = THI['rFitness2_thi']\n",
    "\n",
    "color = '#1b7837'\n",
    "sns.set_style(\"whitegrid\")\n",
    "fig, (ax1, ax2, ax3, ax4) = plt.subplots(1, 4, figsize = (24, 6))\n",
    "fig.suptitle('Density plots and histograms of fitness-related selection coefficients', size= 20) \n",
    "sns.distplot(a, ax=ax1, color=color)\n",
    "sns.distplot(b, ax=ax2, color=color)\n",
    "sns.distplot(c, ax=ax3, color=color)\n",
    "sns.distplot(d, ax=ax4, color=color)\n",
    "ax1.set_xlabel('MLP')\n",
    "ax2.set_xlabel('MLI')\n",
    "ax3.set_xlabel('THP')\n",
    "ax4.set_xlabel('THI')\n",
    "fig.show()\n",
    "#fig.savefig('FitnessBetasDist.png', bbox_inches='tight', dpi=100)"
   ]
  },
  {
   "cell_type": "code",
   "execution_count": null,
   "metadata": {},
   "outputs": [],
   "source": [
    "e = AND['Fitness_Andalucia']\n",
    "f = FIN['Fitness_Finland']\n",
    "g = GER['Fitness_Germany']\n",
    "h = SPA['Fitness_Spain']\n",
    "i = UKI['Fitness_UnitedKingdom']\n",
    "\n",
    "sns.set_style(\"whitegrid\")\n",
    "fig, (ax1, ax2, ax3, ax4, ax5) = plt.subplots(1,5, figsize = (24, 6))\n",
    "sns.distplot(e, ax=ax1, color=color)\n",
    "sns.distplot(f, ax=ax2, color=color)\n",
    "sns.distplot(g, ax=ax3, color=color)\n",
    "sns.distplot(h, ax=ax4, color=color)\n",
    "sns.distplot(i, ax=ax5, color=color)\n",
    "ax1.set_xlabel('AND')\n",
    "ax2.set_xlabel('FIN')\n",
    "ax3.set_xlabel('GER')\n",
    "ax4.set_xlabel('SPA')\n",
    "ax5.set_xlabel('UKI')\n",
    "fig.show()\n",
    "#fig.savefig('FitnessBetasDist_5locs.png', bbox_inches='tight', dpi=100)"
   ]
  },
  {
   "cell_type": "markdown",
   "metadata": {},
   "source": [
    "## Histogramm of fitness-related selection coefficients\n",
    "### After SNP selection"
   ]
  },
  {
   "cell_type": "code",
   "execution_count": null,
   "metadata": {},
   "outputs": [],
   "source": [
    "# Sort & select\n",
    "\n",
    "MLP = MLP.sort_values(by=['rFitness2_mlp'], ascending=False)\n",
    "MLI = MLI.sort_values(by=['rFitness2_mli'], ascending=False)\n",
    "THP = THP.sort_values(by=['rFitness2_thp'], ascending=False)\n",
    "THI = THI.sort_values(by=['rFitness2_thi'], ascending=False)\n",
    "\n",
    "AND = AND.sort_values(by=['Fitness_Andalucia'], ascending=False)\n",
    "SPA = SPA.sort_values(by=['Fitness_Spain'], ascending=False)\n",
    "UKI = UKI.sort_values(by=['Fitness_UnitedKingdom'], ascending=False)\n",
    "FIN = FIN.sort_values(by=['Fitness_Finland'], ascending=False)\n",
    "GER = GER.sort_values(by=['Fitness_Germany'], ascending=False)\n",
    "\n",
    "x=1000\n",
    "\n",
    "# get the first and last 1000 objects (highest and lowest betas)\n",
    "selMLP = MLP.iloc[:x, :]   \n",
    "selMLP = selMLP.append(MLP.iloc[-x:, :])\n",
    "selMLPSNPs = selMLP['rs'].tolist()\n",
    "\n",
    "selMLI = MLI.iloc[:x, :]   \n",
    "selMLI = selMLI.append(MLI.iloc[-x:, :])\n",
    "selMLISNPs = selMLI['rs'].tolist()\n",
    "\n",
    "selTHP = THP.iloc[:x, :]   \n",
    "selTHP = selTHP.append(THP.iloc[-x:, :])\n",
    "selTHPSNPs = selTHP['rs'].tolist()\n",
    "\n",
    "selTHI = THI.iloc[:x, :]   \n",
    "selTHI = selTHI.append(THI.iloc[-x:, :])\n",
    "selTHISNPs = selTHI['rs'].tolist()\n",
    "\n",
    "selAND = AND.iloc[:x, :]   \n",
    "selAND = selAND.append(AND.iloc[-x:, :])\n",
    "selANDSNPs = selAND['rs'].tolist()\n",
    "\n",
    "selSPA = SPA.iloc[:x, :]   \n",
    "selSPA = selSPA.append(SPA.iloc[-x:, :])\n",
    "selSPASNPs = selSPA['rs'].tolist()\n",
    "\n",
    "selUKI = UKI.iloc[:x, :]   \n",
    "selUKI = selUKI.append(UKI.iloc[-x:, :])\n",
    "selUKISNPs = selUKI['rs'].tolist()\n",
    "\n",
    "selFIN = FIN.iloc[:x, :]   \n",
    "selFIN = selFIN.append(FIN.iloc[-x:, :])\n",
    "selFINSNPs = selFIN['rs'].tolist()\n",
    "\n",
    "selGER = GER.iloc[:x, :]   \n",
    "selGER = selGER.append(GER.iloc[-x:, :])\n",
    "selGERSNPs = selGER['rs'].tolist()"
   ]
  },
  {
   "cell_type": "code",
   "execution_count": null,
   "metadata": {},
   "outputs": [],
   "source": [
    "MLP.isnull().sum().sum() \n",
    "#MLP.dtypes"
   ]
  },
  {
   "cell_type": "code",
   "execution_count": null,
   "metadata": {},
   "outputs": [],
   "source": [
    "selGER"
   ]
  },
  {
   "cell_type": "code",
   "execution_count": null,
   "metadata": {},
   "outputs": [],
   "source": [
    "# check distribution of selection\n",
    "\n",
    "a = selMLP['rFitness2_mlp']\n",
    "b = selMLI['rFitness2_mli']\n",
    "c = selTHP['rFitness2_thp']\n",
    "d = selTHI['rFitness2_thi']\n",
    "\n",
    "color = '#1b7837'\n",
    "sns.set_style(\"whitegrid\")\n",
    "fig, (ax1, ax2, ax3, ax4) = plt.subplots(1,4, figsize = (24, 6))\n",
    "fig.suptitle('Density plots and histograms of selected fitness-related selection coefficients', size= 20)\n",
    "sns.distplot(a, ax=ax1, color=color)\n",
    "sns.distplot(b, ax=ax2, color=color)\n",
    "sns.distplot(c, ax=ax3, color=color)\n",
    "sns.distplot(d, ax=ax4, color=color)\n",
    "ax1.set_xlabel('MLP')\n",
    "ax2.set_xlabel('MLI')\n",
    "ax3.set_xlabel('THP')\n",
    "ax4.set_xlabel('THI')\n",
    "fig.show()\n",
    "#fig.savefig('SelFitnessBetasDist.png', bbox_inches='tight', dpi=100)"
   ]
  },
  {
   "cell_type": "code",
   "execution_count": null,
   "metadata": {},
   "outputs": [],
   "source": [
    "e = selAND['Fitness_Andalucia']\n",
    "f = selFIN['Fitness_Finland']\n",
    "g = selGER['Fitness_Germany']\n",
    "h = selSPA['Fitness_Spain']\n",
    "i = selUKI['Fitness_UnitedKingdom']\n",
    "\n",
    "sns.set_style(\"whitegrid\")\n",
    "fig, (ax1, ax2, ax3, ax4, ax5) = plt.subplots(1,5, figsize = (24, 6))\n",
    "sns.distplot(e, ax=ax1, color=color)\n",
    "sns.distplot(f, ax=ax2, color=color)\n",
    "sns.distplot(g, ax=ax3, color=color)\n",
    "sns.distplot(h, ax=ax4, color=color)\n",
    "sns.distplot(i, ax=ax5, color=color)\n",
    "ax1.set_xlabel('AND')\n",
    "ax2.set_xlabel('FIN')\n",
    "ax3.set_xlabel('GER')\n",
    "ax4.set_xlabel('SPA')\n",
    "ax5.set_xlabel('UKI')\n",
    "fig.show()\n",
    "#fig.savefig('SelFitnessBetasDist_5locs.png', bbox_inches='tight', dpi=100)"
   ]
  },
  {
   "cell_type": "markdown",
   "metadata": {},
   "source": [
    "## Density plot & histogram of target"
   ]
  },
  {
   "cell_type": "code",
   "execution_count": null,
   "metadata": {},
   "outputs": [],
   "source": [
    "target = pd.read_csv('/home/esehr/NN_notebook/Input/Target_7locs.csv', delim_whitespace=True)"
   ]
  },
  {
   "cell_type": "code",
   "execution_count": null,
   "metadata": {},
   "outputs": [],
   "source": [
    "target"
   ]
  },
  {
   "cell_type": "code",
   "execution_count": null,
   "metadata": {},
   "outputs": [],
   "source": [
    "sns.set_style(\"whitegrid\")\n",
    "sns.distplot(target['rFitness'], color=color)\n",
    "plt.title('Density plot and histogram of the combined selection coefficients of selected SNPs', size=20)\n",
    "plt.xlabel('All locations combined')\n",
    "#plt.savefig('TargetDist.png', bbox_inches='tight')"
   ]
  },
  {
   "cell_type": "markdown",
   "metadata": {},
   "source": [
    "## EDA of features after SNP selection"
   ]
  },
  {
   "cell_type": "code",
   "execution_count": null,
   "metadata": {},
   "outputs": [],
   "source": [
    "predictors = pd.read_csv('/home/esehr/NN_notebook/Input/Predictors_7locs.csv', delim_whitespace=True)"
   ]
  },
  {
   "cell_type": "code",
   "execution_count": null,
   "metadata": {},
   "outputs": [],
   "source": [
    "predictors.describe()"
   ]
  },
  {
   "cell_type": "code",
   "execution_count": null,
   "metadata": {},
   "outputs": [],
   "source": [
    "# check distribution of predictors\n",
    "color = '#1b7837'\n",
    "\n",
    "b = predictors['bio1']\n",
    "c = predictors['clim-bio1']\n",
    "\n",
    "sns.set_style(\"whitegrid\")\n",
    "fig, (ax2, ax3) = plt.subplots(1,2, figsize = (13, 4))\n",
    "fig.suptitle('Density plots and histograms of selected features after SNP selection', size=12) \n",
    "sns.distplot(b, ax=ax2, color=color)\n",
    "sns.distplot(c, ax=ax3, color=color)\n",
    "\n",
    "ax2.set_xlabel(\"Annual mean temperature (bio1)\", size = 9)\n",
    "ax3.set_xlabel(\"Correlation coefficients from bio1 GWAS\", size = 9)\n",
    "\n",
    "plt.subplots_adjust(top=0.9)\n",
    "fig.show()\n",
    "#fig.savefig('PredVarDist_v2.png', bbox_inches='tight', dpi=100)\n"
   ]
  },
  {
   "cell_type": "code",
   "execution_count": null,
   "metadata": {},
   "outputs": [],
   "source": [
    "color = '#1b7837'\n",
    "\n",
    "a = predictors['ann']\n",
    "\n",
    "sns.set_style(\"whitegrid\")\n",
    "fig = sns.distplot(a, color = color, bins=np.arange(0.5,22.5), kde=False)\n",
    "fig.set_title('Distribution of the annotation categories after SNP selection', size=20, pad=20)\n",
    "fig.set_xlabel(\"Annotation (categorical)\", size= 16)\n",
    "fig.set_ylabel('Number of SNPs annotated', size = 16)\n",
    "\n",
    "fig.xaxis.tick_bottom()\n",
    "fig.set_xticks([0,1,2,3,4,5,6,7,8,9,10,11,12,13,14,15,16,17,18,19,20,21,22])\n",
    "fig.set_xticklabels(['3_prime_UTR_variant', '5_prime_UTR_premature_start_codon_gain_variant', '5_prime_UTR_variant', \n",
    "                     'initiator_codon_variant', 'intergenic_region', 'intron_variant', 'missense_variant', \n",
    "                      'missense_variant&splice_region_variant', 'non_coding_transcript_exon_variant', 'splice_acceptor_variant&intron_variant', \n",
    "                      'splice_donor_variant&intron_variant', 'splice_region_variant', 'splice_region_variant&intron_variant', \n",
    "                      'splice_region_variant&non_coding_transcript_exon_variant', 'splice_region_variant&stop_retained_variant', \n",
    "                      'splice_region_variant&synonymous_variant', 'start_lost', 'stop_gained', 'stop_gained&splice_region_variant', \n",
    "                      'stop_lost', 'stop_lost&splice_region_variant', 'stop_retained_variant', 'synonymous_variant'], rotation=30, ha='right')\n",
    "\n",
    "#fig.figure.savefig('Annotation_afterSNPsel.png', bbox_inches='tight',dpi=100)\n"
   ]
  },
  {
   "cell_type": "markdown",
   "metadata": {},
   "source": [
    "## Heatmap after SNP selection"
   ]
  },
  {
   "cell_type": "code",
   "execution_count": null,
   "metadata": {},
   "outputs": [],
   "source": [
    "# subset with sel coeff\n",
    "climbetas4corr = predictors.iloc[:,1:56].copy()\n",
    "climbetas4corr"
   ]
  },
  {
   "cell_type": "code",
   "execution_count": null,
   "metadata": {},
   "outputs": [],
   "source": [
    "climbetas4corr = climbetas4corr.reindex(sorted(climbetas4corr.columns), axis=1)"
   ]
  },
  {
   "cell_type": "code",
   "execution_count": null,
   "metadata": {},
   "outputs": [],
   "source": [
    "climbetas4corr.columns = ['clim-bio01', 'clim-bio10', 'clim-bio11', 'clim-bio12', 'clim-bio13',\n",
    "       'clim-bio14', 'clim-bio15', 'clim-bio16', 'clim-bio17', 'clim-bio18',\n",
    "       'clim-bio19', 'clim-bio02', 'clim-bio03', 'clim-bio04', 'clim-bio05',\n",
    "       'clim-bio06', 'clim-bio07', 'clim-bio08', 'clim-bio09', 'clim-prec01',\n",
    "       'clim-prec10', 'clim-prec11', 'clim-prec12', 'clim-prec02', 'clim-prec03',\n",
    "       'clim-prec04', 'clim-prec05', 'clim-prec06', 'clim-prec07', 'clim-prec08',\n",
    "       'clim-prec09', 'clim-tmax01', 'clim-tmax10', 'clim-tmax11', 'clim-tmax12',\n",
    "       'clim-tmax02', 'clim-tmax03', 'clim-tmax04', 'clim-tmax05', 'clim-tmax06',\n",
    "       'clim-tmax07', 'clim-tmax08', 'clim-tmax09', 'clim-tmin01', 'clim-tmin10',\n",
    "       'clim-tmin11', 'clim-tmin12', 'clim-tmin02', 'clim-tmin03', 'clim-tmin04',\n",
    "       'clim-tmin05', 'clim-tmin06', 'clim-tmin07', 'clim-tmin08', 'clim-tmin09']"
   ]
  },
  {
   "cell_type": "code",
   "execution_count": null,
   "metadata": {},
   "outputs": [],
   "source": [
    "climbetas4corr = climbetas4corr.reindex(sorted(climbetas4corr.columns), axis=1)"
   ]
  },
  {
   "cell_type": "code",
   "execution_count": null,
   "metadata": {},
   "outputs": [],
   "source": [
    "climbetas4corr.columns = ['betas-bio01', 'betas-bio02', 'betas-bio03', 'betas-bio04', 'betas-bio05',\n",
    "       'betas-bio06', 'betas-bio07', 'betas-bio08', 'betas-bio09', 'betas-bio10',\n",
    "       'betas-bio11', 'betas-bio12', 'betas-bio13', 'betas-bio14', 'betas-bio15',\n",
    "       'betas-bio16', 'betas-bio17', 'betas-bio18', 'betas-bio19', 'betas-prec01',\n",
    "       'betas-prec02', 'betas-prec03', 'betas-prec04', 'betas-prec05',\n",
    "       'betas-prec06', 'betas-prec07', 'betas-prec08', 'betas-prec09',\n",
    "       'betas-prec10', 'betas-prec11', 'betas-prec12', 'betas-tmax01',\n",
    "       'betas-tmax02', 'betas-tmax03', 'betas-tmax04', 'betas-tmax05',\n",
    "       'betas-tmax06', 'betas-tmax07', 'betas-tmax08', 'betas-tmax09',\n",
    "       'betas-tmax10', 'betas-tmax11', 'betas-tmax12', 'betas-tmin01',\n",
    "       'betas-tmin02', 'betas-tmin03', 'betas-tmin04', 'betas-tmin05',\n",
    "       'betas-tmin06', 'betas-tmin07', 'betas-tmin08', 'betas-tmin09',\n",
    "       'betas-tmin10', 'betas-tmin11', 'betas-tmin12']"
   ]
  },
  {
   "cell_type": "code",
   "execution_count": null,
   "metadata": {},
   "outputs": [],
   "source": [
    "# subset with clima\n",
    "clim4corr = predictors.iloc[:,57:].copy()\n",
    "clim4corr"
   ]
  },
  {
   "cell_type": "code",
   "execution_count": null,
   "metadata": {},
   "outputs": [],
   "source": [
    "matrix = np.triu(clim4corr.corr())\n",
    "sns.set(rc={'figure.figsize':(14,14)})\n",
    "sns.set_style(\"whitegrid\")\n",
    "sns.heatmap(clim4corr.corr(), vmin=-1, vmax=1, center= 0, cmap= 'PRGn', mask=matrix, cbar_kws={\"shrink\": .70})\n",
    "plt.title('Correlation heatmap of climate variables', fontsize=20)\n",
    "#plt.savefig('corr_clima.png', bbox_inches='tight', dpi=100)"
   ]
  },
  {
   "cell_type": "code",
   "execution_count": null,
   "metadata": {},
   "outputs": [],
   "source": [
    "matrix = np.triu(climbetas4corr.corr())\n",
    "sns.set(rc={'figure.figsize':(14,14)})\n",
    "sns.set_style(\"whitegrid\")\n",
    "sns.heatmap(climbetas4corr.corr(), vmin=-1, vmax=1, center= 0, cmap= 'PRGn', mask=matrix, cbar_kws={\"shrink\": .70})\n",
    "plt.title('Correlation heatmap of climate-related correlation coefficients after SNP selection', fontsize=20)\n",
    "#plt.savefig('corr_climabetas_afterSNPsel.png', bbox_inches='tight', dpi=100)"
   ]
  }
 ],
 "metadata": {
  "kernelspec": {
   "display_name": "Python 3",
   "language": "python",
   "name": "python3"
  },
  "language_info": {
   "codemirror_mode": {
    "name": "ipython",
    "version": 3
   },
   "file_extension": ".py",
   "mimetype": "text/x-python",
   "name": "python",
   "nbconvert_exporter": "python",
   "pygments_lexer": "ipython3",
   "version": "3.6.6"
  }
 },
 "nbformat": 4,
 "nbformat_minor": 4
}
