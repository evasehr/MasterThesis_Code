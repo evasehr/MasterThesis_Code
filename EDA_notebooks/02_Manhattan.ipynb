{
 "cells": [
  {
   "cell_type": "markdown",
   "metadata": {},
   "source": [
    "# Manhattan plots\n",
    "Inspired by https://reneshbedre.github.io/blog/manhat.html"
   ]
  },
  {
   "cell_type": "code",
   "execution_count": null,
   "metadata": {},
   "outputs": [],
   "source": [
    "from bioinfokit import analys, visuz\n",
    "import pandas as pd\n",
    "import matplotlib.pyplot as plt\n",
    "%matplotlib inline"
   ]
  },
  {
   "cell_type": "code",
   "execution_count": null,
   "metadata": {},
   "outputs": [],
   "source": [
    "AND = pd.read_csv('/Carnegie/DPB/Data/Shared/Labs/Moi/Everyone/deepselection/naturedata/Fitness_Andalucia.assoc.txt',sep='\\t')\n",
    "FIN = pd.read_csv('/Carnegie/DPB/Data/Shared/Labs/Moi/Everyone/deepselection/naturedata/Fitness_Finland.assoc.txt',sep='\\t')\n",
    "GER = pd.read_csv('/Carnegie/DPB/Data/Shared/Labs/Moi/Everyone/deepselection/naturedata/Fitness_Germany.assoc.txt',sep='\\t')\n",
    "UKI = pd.read_csv('/Carnegie/DPB/Data/Shared/Labs/Moi/Everyone/deepselection/naturedata/Fitness_UnitedKingdom.assoc.txt',sep='\\t')\n",
    "SPA = pd.read_csv('/Carnegie/DPB/Data/Shared/Labs/Moi/Everyone/deepselection/naturedata/Fitness_Spain.assoc.txt',sep='\\t')"
   ]
  },
  {
   "cell_type": "code",
   "execution_count": null,
   "metadata": {},
   "outputs": [],
   "source": [
    "MLI = pd.read_csv('/Carnegie/DPB/Data/Shared/Labs/Moi/Everyone/deepselection/naturedata/rFitness_mli.assoc.txt',sep='\\t')\n",
    "MLP = pd.read_csv('/Carnegie/DPB/Data/Shared/Labs/Moi/Everyone/deepselection/naturedata/rFitness_mlp.assoc.txt',sep='\\t')\n",
    "THI = pd.read_csv('/Carnegie/DPB/Data/Shared/Labs/Moi/Everyone/deepselection/naturedata/rFitness_thi.assoc.txt',sep='\\t')\n",
    "THP = pd.read_csv('/Carnegie/DPB/Data/Shared/Labs/Moi/Everyone/deepselection/naturedata/rFitness_thp.assoc.txt',sep='\\t')"
   ]
  },
  {
   "cell_type": "code",
   "execution_count": null,
   "metadata": {},
   "outputs": [],
   "source": [
    "bonfcorr = 0.001/1329688\n",
    "bonfcorr2 = 0.05/1329688"
   ]
  },
  {
   "cell_type": "code",
   "execution_count": null,
   "metadata": {},
   "outputs": [],
   "source": [
    "color=('#525252', '#969696')"
   ]
  },
  {
   "cell_type": "code",
   "execution_count": null,
   "metadata": {},
   "outputs": [],
   "source": [
    "# include show=True to plot figure instead of saving\n",
    "visuz.marker.mhat(df=AND, chr='chr', pv='p_wald', color=color, dotsize=3, dim=(25,12), ar=0, axlabelfontsize = 24, gwas_sign_line=True, gwasp=bonfcorr2, figname = 'manh_AND')"
   ]
  },
  {
   "cell_type": "code",
   "execution_count": null,
   "metadata": {},
   "outputs": [],
   "source": [
    "visuz.marker.mhat(df=FIN, chr='chr', pv='p_wald', color=color, dotsize=3, dim=(25,12), ar=0, axlabelfontsize = 24, gwas_sign_line=True, gwasp=bonfcorr2, figname = 'manh_FIN')"
   ]
  },
  {
   "cell_type": "code",
   "execution_count": null,
   "metadata": {},
   "outputs": [],
   "source": [
    "visuz.marker.mhat(df=GER, chr='chr', pv='p_wald', color=color, dotsize=3, dim=(25,12), ar=0, axlabelfontsize = 24, gwas_sign_line=True, gwasp=bonfcorr2, figname = 'manh_GER')"
   ]
  },
  {
   "cell_type": "code",
   "execution_count": null,
   "metadata": {},
   "outputs": [],
   "source": [
    "visuz.marker.mhat(df=UKI, chr='chr', pv='p_wald', color=color, dotsize=3, dim=(25,12), ar=0, axlabelfontsize = 24, gwas_sign_line=True, gwasp=bonfcorr2, figname = 'manh_UKI')"
   ]
  },
  {
   "cell_type": "code",
   "execution_count": null,
   "metadata": {},
   "outputs": [],
   "source": [
    "visuz.marker.mhat(df=SPA, chr='chr', pv='p_wald', color=color, dotsize=3, dim=(25,12), ar=0, axlabelfontsize = 24, gwas_sign_line=True, gwasp=bonfcorr2, figname = 'manh_SPA')"
   ]
  },
  {
   "cell_type": "code",
   "execution_count": null,
   "metadata": {},
   "outputs": [],
   "source": [
    "visuz.marker.mhat(df=MLI, chr='chr', pv='p_wald', color=color, dotsize=3, dim=(25,12), ar=0, axlabelfontsize = 24, gwas_sign_line=True, gwasp=bonfcorr2, figname = 'manh_MLI')\n",
    "visuz.marker.mhat(df=MLP, chr='chr', pv='p_wald', color=color, dotsize=3, dim=(25,12), ar=0, axlabelfontsize = 24, gwas_sign_line=True, gwasp=bonfcorr2, figname = 'manh_MLP')\n",
    "visuz.marker.mhat(df=THI, chr='chr', pv='p_wald', color=color, dotsize=3, dim=(25,12), ar=0, axlabelfontsize = 24, gwas_sign_line=True, gwasp=bonfcorr2, figname = 'manh_THI')\n",
    "visuz.marker.mhat(df=THP, chr='chr', pv='p_wald', color=color, dotsize=3, dim=(25,12), ar=0, axlabelfontsize = 24, gwas_sign_line=True, gwasp=bonfcorr2, figname = 'manh_THP')"
   ]
  }
 ],
 "metadata": {
  "kernelspec": {
   "display_name": "Python 3",
   "language": "python",
   "name": "python3"
  },
  "language_info": {
   "codemirror_mode": {
    "name": "ipython",
    "version": 3
   },
   "file_extension": ".py",
   "mimetype": "text/x-python",
   "name": "python",
   "nbconvert_exporter": "python",
   "pygments_lexer": "ipython3",
   "version": "3.6.6"
  }
 },
 "nbformat": 4,
 "nbformat_minor": 4
}
