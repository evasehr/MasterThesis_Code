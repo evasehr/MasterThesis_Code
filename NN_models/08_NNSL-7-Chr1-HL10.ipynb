{
 "cells": [
  {
   "cell_type": "markdown",
   "metadata": {},
   "source": [
    "# NNSL-7-Chr1-HL10\n",
    "## NN using scikit-learn, 7 environments, data of Chromosome 1 for cross validation, 10 hidden layers (decreasing size)\n"
   ]
  },
  {
   "cell_type": "markdown",
   "metadata": {},
   "source": [
    "## Import packages"
   ]
  },
  {
   "cell_type": "code",
   "execution_count": null,
   "metadata": {},
   "outputs": [],
   "source": [
    "import pandas as pd\n",
    "import numpy as np\n",
    "from sklearn.neural_network import MLPRegressor\n",
    "from sklearn.datasets import make_regression\n",
    "from sklearn.model_selection import train_test_split\n",
    "from sklearn import preprocessing\n",
    "from sklearn.preprocessing import StandardScaler\n",
    "from sklearn import metrics\n",
    "from sklearn.metrics import r2_score, mean_squared_error\n",
    "from math import sqrt\n",
    "from yellowbrick.regressor import PredictionError, ResidualsPlot\n",
    "import matplotlib.pyplot as plt\n",
    "import seaborn as sns\n",
    "\n",
    "%matplotlib inline\n",
    "\n",
    "sns.set(color_codes=True)\n",
    "sns.set(rc={'figure.figsize':(11.7,8.27)})\n",
    "pd.set_option('display.max_columns', 999)\n",
    "\n"
   ]
  },
  {
   "cell_type": "markdown",
   "metadata": {},
   "source": [
    "## Neural net"
   ]
  },
  {
   "cell_type": "code",
   "execution_count": null,
   "metadata": {},
   "outputs": [],
   "source": [
    "predictors = pd.read_csv('Input/Predictors_7locs.csv', delim_whitespace=True)\n",
    "target = pd.read_csv('Input/Target_7locs.csv', delim_whitespace=True)"
   ]
  },
  {
   "cell_type": "code",
   "execution_count": null,
   "metadata": {},
   "outputs": [],
   "source": [
    "# drop all entries from the chromosome that is later used for Cross Validation\n",
    "chr = \"1_\"\n",
    "\n",
    "target_chr = target['rs'].str.contains(chr)\n",
    "target_minusChr = target[~target_chr]\n",
    "\n",
    "predictors_chr = predictors['rs'].str. contains(chr)\n",
    "predictors_minusChr = predictors[~predictors_chr]"
   ]
  },
  {
   "cell_type": "code",
   "execution_count": null,
   "metadata": {},
   "outputs": [],
   "source": [
    "y_train = target_minusChr['rFitness']\n",
    "X_train = predictors_minusChr.iloc[:, 1:].copy()    # without rs column\n",
    "\n",
    "y_test = target.loc[target.rs.str.match(chr)]\n",
    "y_test = y_test['rFitness']\n",
    "\n",
    "X_test = predictors.loc[predictors.rs.str.match(chr)]\n",
    "X_test = X_test.iloc[:, 1:].copy()"
   ]
  },
  {
   "cell_type": "markdown",
   "metadata": {},
   "source": [
    "***"
   ]
  },
  {
   "cell_type": "code",
   "execution_count": null,
   "metadata": {},
   "outputs": [],
   "source": [
    "#X_train, X_test, y_train, y_test = train_test_split(X, y, test_size=0.2, random_state=0)\n",
    "regr_nn = MLPRegressor(activation ='relu', hidden_layer_sizes = (100, 90, 80, 70, 60, 50, 40, 30, 20, 10), learning_rate='adaptive', learning_rate_init = 0.001, random_state=0)\n",
    "# using best parameters found by GridSearchCV"
   ]
  },
  {
   "cell_type": "code",
   "execution_count": null,
   "metadata": {},
   "outputs": [],
   "source": [
    "# Scaling\n",
    "\n",
    "scaler = StandardScaler()\n",
    "scaler.fit(X_train)\n",
    "\n",
    "X_train = scaler.transform(X_train)\n",
    "X_test = scaler.transform(X_test)"
   ]
  },
  {
   "cell_type": "code",
   "execution_count": null,
   "metadata": {},
   "outputs": [],
   "source": [
    "y_test2plot = y_test.copy()\n",
    "y_test2plot = y_test2plot.reset_index()\n",
    "\n",
    "#tarMLP #0-17280\n",
    "#tarMLI #17282-34561\n",
    "#tarTHP #34563-51842\n",
    "#tarTHI #51844-69123\n",
    "#tarAND #69125-86404\n",
    "#tarSPA #120968-138247\n",
    "#tarUKI #138249-155528\n",
    "#tarGER #86406-103685\n",
    "#tarFIN #103687-120966\n",
    "\n",
    "y_test2plot['locat'] = ['MLP' if 0 <= x <= 17280 else 'MLI' if 17282 <= x <= 34561 else \n",
    "                        'THP' if 34563 <= x <= 51842 else 'THI' if 51844 <= x <= 69123 else \n",
    "                        'AND' if 69125 <= x <= 86404 else 'GER' if 86406 <= x <= 103685 else \n",
    "                        'FIN' if 103687 <= x <= 120966 else 'UKI' if 138249 <= x <= 155528 else \n",
    "                        'SPA' for x in y_test2plot['index']]\n",
    "y_test2plot"
   ]
  },
  {
   "cell_type": "code",
   "execution_count": null,
   "metadata": {},
   "outputs": [],
   "source": [
    "# Training\n",
    "regr_nn.fit(X_train, y_train)"
   ]
  },
  {
   "cell_type": "code",
   "execution_count": null,
   "metadata": {},
   "outputs": [],
   "source": [
    "# Prediction\n",
    "y_nn = regr_nn.predict(X_test)\n",
    "regr_nn.score(X_test, y_test)"
   ]
  },
  {
   "cell_type": "code",
   "execution_count": null,
   "metadata": {},
   "outputs": [],
   "source": [
    "# Metrics\n",
    "print('Training set score: %f' % regr_nn.score(X_train, y_train), file=open('Output/08CV_Metrics.txt', 'a'))\n",
    "print('Test set score: %f' % regr_nn.score(X_test, y_test), file=open('Output/08CV_Metrics.txt', 'a'))\n",
    "#print('Mean of cross validation score: ', scores.mean(), file=open('Output/05_Metrics.txt', 'a'))"
   ]
  },
  {
   "cell_type": "code",
   "execution_count": null,
   "metadata": {},
   "outputs": [],
   "source": [
    "pr = regr_nn.predict(X_test)\n",
    "print('R2 score: %f' % r2_score(y_test, pr), file=open('Output/08CV_Metrics.txt', 'a'))  \n",
    "print('RMSE score: %f' % sqrt ( mean_squared_error(y_test, pr)), file=open('Output/08CV_Metrics.txt', 'a'))\n",
    "\n",
    "# taken from here: https://github.com/Gurpremm/rxnpredict-using-sklearn-python/blob/master/chemistry_rxn_predict.ipynb "
   ]
  },
  {
   "cell_type": "markdown",
   "metadata": {},
   "source": [
    "#### Plot results with Yellowbrick\n",
    "https://www.scikit-yb.org/en/latest/api/regressor/peplot.html"
   ]
  },
  {
   "cell_type": "code",
   "execution_count": null,
   "metadata": {},
   "outputs": [],
   "source": [
    "# Residuals plot\n",
    "f = plt.figure()\n",
    "visualizer = ResidualsPlot(regr_nn)\n",
    "visualizer.fit(X_train, y_train)\n",
    "visualizer.score(X_test, y_test)\n",
    "visualizer.show()\n",
    "f.show()\n",
    "#f.savefig(\"Output/08CV_Residuals.png\", bbox_inches='tight', dpi=600)"
   ]
  },
  {
   "cell_type": "code",
   "execution_count": null,
   "metadata": {},
   "outputs": [],
   "source": [
    "# Prediction error plot\n",
    "f = plt.figure()\n",
    "visualizer = PredictionError(regr_nn)\n",
    "visualizer.fit(X_train, y_train)\n",
    "visualizer.score(X_test, y_test)\n",
    "visualizer.show()\n",
    "f.show()\n",
    "#f.savefig(\"Output/08CV_PredActual.png\", bbox_inches='tight', dpi=600)"
   ]
  },
  {
   "cell_type": "code",
   "execution_count": null,
   "metadata": {},
   "outputs": [],
   "source": [
    "y_nn2plot = pd.DataFrame(y_nn)\n",
    "df2plot = pd.concat([y_test2plot, y_nn2plot], axis=1)\n",
    "df2plot.columns = ['index', 'Actual', 'Location', 'Predicted']\n",
    "df2plot\n",
    "df2plot.to_csv('Input/08CVchr_predictedValues.csv')"
   ]
  },
  {
   "cell_type": "code",
   "execution_count": null,
   "metadata": {},
   "outputs": [],
   "source": [
    "df2plot = pd.read_csv('Input/08CVchr_predictedValues.csv')\n",
    "\n",
    "#        MLP     MLI      THP           THI      AND     SPA     GER        FIN        UKI\n",
    "col =['#984ea3','#006e00','#ebac23','#b80058','#008cf9','#ff9287', '#00bbad','#878500', '#5954d6']\n",
    "\n",
    "sns.set(rc={'figure.figsize':(13,10)})\n",
    "sns.set_style(\"whitegrid\")\n",
    "sns.set_palette(col)\n",
    "s = sns.scatterplot(x='Predicted', y='Actual', hue='Location', sizes=(20), data=df2plot) \n",
    "plt.title(\"Neural network | scikit-learn | 1,000 - 1,000 SNPs\", size= 16, pad=25)\n",
    "plt.suptitle(\"Actual vs predicted selection coefficients from all locations of chromosome 1\", size = 20)\n",
    "plt.xlabel(\"Predicted\", size=16)\n",
    "plt.ylabel(\"Actual\", size=16)\n",
    "plt.xlim(-1,3)\n",
    "plt.ylim(-1,3)\n",
    "plt.setp(s.get_legend().get_texts(), fontsize='16') # for legend text\n",
    "plt.setp(s.get_legend().get_title(), fontsize='18') # for legend title\n",
    "#plt.savefig('Output//08CVchr_PredActual.png', bbox_inches='tight')"
   ]
  },
  {
   "cell_type": "code",
   "execution_count": null,
   "metadata": {},
   "outputs": [],
   "source": [
    "df2plot = df2plot.sort_values('Location')"
   ]
  },
  {
   "cell_type": "code",
   "execution_count": null,
   "metadata": {},
   "outputs": [],
   "source": [
    "# Order AND       FIN        GER       MLI        MLP        SPA        THI        THP          UKI\n",
    "col =['#008cf9','#878500','#00bbad', '#006e00', '#984ea3', '#ff9287', '#b80058', '#ebac23', '#5954d6']\n",
    "\n",
    "# plot separated\n",
    "sns.set_style(\"whitegrid\")\n",
    "sns.set_palette(col)\n",
    "\n",
    "p =sns.relplot(\n",
    "    data=df2plot, x='Predicted', y='Actual',\n",
    "    col=\"Location\", hue=\"Location\",\n",
    "    kind=\"scatter\", col_wrap=5)\n",
    "plt.subplots_adjust(top=0.9)\n",
    "p.fig.suptitle(\" NNSL-7-Chr1-HL10 | Actual vs predicted selection coefficients from all locations of chromosome 1\", size = 20)\n",
    "\n",
    "#plt.savefig('Output/08CVchr_PredActual_grid.png', bbox_inches='tight')"
   ]
  }
 ],
 "metadata": {
  "kernelspec": {
   "display_name": "Python 3",
   "language": "python",
   "name": "python3"
  },
  "language_info": {
   "codemirror_mode": {
    "name": "ipython",
    "version": 3
   },
   "file_extension": ".py",
   "mimetype": "text/x-python",
   "name": "python",
   "nbconvert_exporter": "python",
   "pygments_lexer": "ipython3",
   "version": "3.6.6"
  }
 },
 "nbformat": 4,
 "nbformat_minor": 4
}
