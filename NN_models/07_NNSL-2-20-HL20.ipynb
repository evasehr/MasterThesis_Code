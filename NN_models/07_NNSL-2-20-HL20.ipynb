{
 "cells": [
  {
   "cell_type": "markdown",
   "metadata": {},
   "source": [
    "# NNSL-2-20-HL20\n",
    "## NN using scikit-learn, 2 locations, train-test-split (80/20), 20 hidden layers (decreasing size)\n"
   ]
  },
  {
   "cell_type": "markdown",
   "metadata": {},
   "source": [
    "## Import packages"
   ]
  },
  {
   "cell_type": "code",
   "execution_count": null,
   "metadata": {},
   "outputs": [],
   "source": [
    "import pandas as pd\n",
    "import numpy as np\n",
    "from sklearn.neural_network import MLPRegressor\n",
    "from sklearn.datasets import make_regression\n",
    "from sklearn.model_selection import train_test_split\n",
    "from sklearn import preprocessing\n",
    "from sklearn.preprocessing import StandardScaler\n",
    "from sklearn import metrics\n",
    "from sklearn.metrics import r2_score, mean_squared_error\n",
    "from math import sqrt\n",
    "from yellowbrick.regressor import PredictionError, ResidualsPlot\n",
    "import matplotlib.pyplot as plt\n",
    "import seaborn as sns\n",
    "\n",
    "%matplotlib inline\n",
    "\n",
    "sns.set(color_codes=True)\n",
    "sns.set(rc={'figure.figsize':(11.7,8.27)})\n",
    "pd.set_option('display.max_columns', 999)\n",
    "\n"
   ]
  },
  {
   "cell_type": "markdown",
   "metadata": {},
   "source": [
    "## Neural net"
   ]
  },
  {
   "cell_type": "code",
   "execution_count": null,
   "metadata": {},
   "outputs": [],
   "source": [
    "predictors = pd.read_csv('Input/Predictors_2000SNP.csv', delim_whitespace=True)\n",
    "target = pd.read_csv('Input/Target_2000SNP.csv', delim_whitespace=True)\n",
    "\n",
    "y = target['rFitness']\n",
    "X = predictors.iloc[:, 1:].copy()    # without rs column"
   ]
  },
  {
   "cell_type": "code",
   "execution_count": null,
   "metadata": {},
   "outputs": [],
   "source": [
    "X_train, X_test, y_train, y_test = train_test_split(X, y, test_size=0.2, random_state=0)\n",
    "regr_nn = MLPRegressor(activation ='relu', hidden_layer_sizes = (100, 98, 95, 92, 90, 85, 80, 75, 70, 65, 60, 55, 50, 45, 40, 35, 30, 25, 20, 18), learning_rate='adaptive', learning_rate_init = 0.001, random_state=0)\n",
    "# using best parameters found by GridSearchCV"
   ]
  },
  {
   "cell_type": "code",
   "execution_count": null,
   "metadata": {},
   "outputs": [],
   "source": [
    "# Scaling\n",
    "\n",
    "scaler = StandardScaler()\n",
    "scaler.fit(X_train)\n",
    "\n",
    "X_train = scaler.transform(X_train)\n",
    "X_test = scaler.transform(X_test)"
   ]
  },
  {
   "cell_type": "code",
   "execution_count": null,
   "metadata": {},
   "outputs": [],
   "source": [
    "y_test2plot = y_test.copy()\n",
    "y_test2plot = y_test2plot.reset_index()\n",
    "\n",
    "#tarMLP #index 0-7756\n",
    "#tarMLI #index 7757-15513\n",
    "#tarTHP #index 15514-23270\n",
    "#tarTHI #index 23271-31027\n",
    "\n",
    "y_test2plot['locat'] = ['MLP' if 0 <= x <= 7756 else 'MLI' if 7757 <= x <= 15513 else 'THP' if 15514 <= x <= 23270 else 'THI' for x in y_test2plot['index']]\n",
    "y_test2plot"
   ]
  },
  {
   "cell_type": "code",
   "execution_count": null,
   "metadata": {},
   "outputs": [],
   "source": [
    "# Training\n",
    "regr_nn.fit(X_train, y_train)"
   ]
  },
  {
   "cell_type": "code",
   "execution_count": null,
   "metadata": {},
   "outputs": [],
   "source": [
    "# Prediction\n",
    "y_nn = regr_nn.predict(X_test)\n",
    "regr_nn.score(X_test, y_test)"
   ]
  },
  {
   "cell_type": "code",
   "execution_count": null,
   "metadata": {},
   "outputs": [],
   "source": [
    "# Metrics\n",
    "print('Training set score: %f' % regr_nn.score(X_train, y_train), file=open('Output/07b_Metrics.txt', 'a'))\n",
    "print('Test set score: %f' % regr_nn.score(X_test, y_test), file=open('Output/07b_Metrics.txt', 'a'))\n",
    "#print('Mean of cross validation score: ', scores.mean(), file=open('Output/05_Metrics.txt', 'a'))"
   ]
  },
  {
   "cell_type": "code",
   "execution_count": null,
   "metadata": {},
   "outputs": [],
   "source": [
    "pr = regr_nn.predict(X_test)\n",
    "print('R2 score: %f' % r2_score(y_test, pr), file=open('Output/07b_Metrics.txt', 'a'))  \n",
    "print('RMSE score: %f' % sqrt ( mean_squared_error(y_test, pr)), file=open('Output/07b_Metrics.txt', 'a'))\n",
    "\n",
    "# taken from here: https://github.com/Gurpremm/rxnpredict-using-sklearn-python/blob/master/chemistry_rxn_predict.ipynb "
   ]
  },
  {
   "cell_type": "markdown",
   "metadata": {},
   "source": [
    "#### Plot results with Yellowbrick\n",
    "https://www.scikit-yb.org/en/latest/api/regressor/peplot.html"
   ]
  },
  {
   "cell_type": "code",
   "execution_count": null,
   "metadata": {},
   "outputs": [],
   "source": [
    "# Residuals plot\n",
    "f = plt.figure()\n",
    "visualizer = ResidualsPlot(regr_nn)\n",
    "visualizer.fit(X_train, y_train)\n",
    "visualizer.score(X_test, y_test)\n",
    "visualizer.show()\n",
    "f.show()\n",
    "#f.savefig(\"Output/07b_Residuals.png\", bbox_inches='tight')"
   ]
  },
  {
   "cell_type": "code",
   "execution_count": null,
   "metadata": {},
   "outputs": [],
   "source": [
    "# Prediction error plot\n",
    "f = plt.figure()\n",
    "visualizer = PredictionError(regr_nn)\n",
    "visualizer.fit(X_train, y_train)\n",
    "visualizer.score(X_test, y_test)\n",
    "visualizer.show()\n",
    "f.show()f.savefig(\"Output/07b_PredActual.png\", bbox_inches='tight')"
   ]
  },
  {
   "cell_type": "code",
   "execution_count": null,
   "metadata": {},
   "outputs": [],
   "source": [
    "y_rf2plot = pd.DataFrame(y_nn)\n",
    "df2plot = pd.concat([y_test2plot, y_rf2plot], axis=1)\n",
    "df2plot.columns = ['index', 'actual', 'location', 'pred']\n",
    "df2plot"
   ]
  },
  {
   "cell_type": "code",
   "execution_count": null,
   "metadata": {},
   "outputs": [],
   "source": [
    "sns.set_palette('Paired')\n",
    "sns.scatterplot(x='actual', y='pred', hue='location', data=df2plot)\n",
    "plt.title(\"Actual vs predicted beta values\")\n",
    "plt.xlabel(\"Actual\")\n",
    "plt.ylabel(\"Predicted\")\n",
    "plt.show()\n",
    "#plt.savefig('Output/07b_PredActual_Color.png', bbox_inches='tight')"
   ]
  }
 ],
 "metadata": {
  "kernelspec": {
   "display_name": "Python 3",
   "language": "python",
   "name": "python3"
  },
  "language_info": {
   "codemirror_mode": {
    "name": "ipython",
    "version": 3
   },
   "file_extension": ".py",
   "mimetype": "text/x-python",
   "name": "python",
   "nbconvert_exporter": "python",
   "pygments_lexer": "ipython3",
   "version": "3.6.6"
  }
 },
 "nbformat": 4,
 "nbformat_minor": 4
}
